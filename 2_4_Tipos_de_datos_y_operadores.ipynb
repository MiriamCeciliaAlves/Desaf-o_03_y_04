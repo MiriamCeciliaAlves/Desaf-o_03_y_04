{
 "cells": [
  {
   "cell_type": "markdown",
   "id": "07731d0b",
   "metadata": {},
   "source": [
    "Desafío 3: Convertidor de temperaturas\n",
    "\n",
    "- ¿Que pide el enunciado?\n",
    "\n",
    "Realizar conversiones de una temperatura dada en Celsius a Fahrenheit y Kelvin utilizando operaciones directas sobre variables.\n",
    "\n"
   ]
  },
  {
   "cell_type": "code",
   "execution_count": null,
   "id": "b993a75d",
   "metadata": {},
   "outputs": [],
   "source": [
    "# Convertidor de unidades de temperatura\n",
    "# \n",
    "# Datos utilizados para los cálculos:\n",
    "#\n",
    "#       De ºC a ºF: se multiplica la temperatura en °C por 1.8 y se suma 32\n",
    "#       De ºC a K: se suman 273.15 a la temperatura en °C\n",
    "#       \n",
    "C = 10    # Se define la variable de temperatura en Celsius a ser convertida en Fahrenheint y Kelvin\n",
    "Fahrenheint = C * 1.8 + 32      # Se define la variable Fahrenheint la cual es la operación de conversión\n",
    "Kelvin = C + 273.15      # Se define la variable Kelvin la cual es la operación de conversión\n",
    "print(C),\n",
    "print(\"Grados Celsius equivalen a:\")\n",
    "print()\n",
    "input(\"Presiona Enter para realizar la Conversión de grados\")\n",
    "print()\n",
    "print(\"Fahrenheint\")\n",
    "print(Fahrenheint)   # Muestra el valor de la variable Fahrenheint, siendo este el resultado\n",
    "print()\n",
    "print(\"Kelvin\")\n",
    "print(Kelvin)   # Muestra el valor de la variable Kelvin, siendo este el resultado\n",
    "print()\n",
    "print(\"Programa finalizado\")\n",
    "print()\n",
    "input(\"Presione ENTER para cerrar\")"
   ]
  },
  {
   "cell_type": "markdown",
   "id": "e0043070",
   "metadata": {},
   "source": [
    "Desafío 4: Verificar múltiplos de varios números\n",
    "\n",
    "- ¿Que pide el enunciado?\n",
    "\n",
    "Crear un programa que, dado un número, verifique si es múltiplo de: 2, 3, 5, 7, 9, 10 y 11. Imprimir un mensaje por cada verificación."
   ]
  },
  {
   "cell_type": "code",
   "execution_count": null,
   "id": "1e60146c",
   "metadata": {},
   "outputs": [],
   "source": [
    "# Verificar múltiplos de varios números\n",
    "# \n",
    "# Datos utilizados para los cálculos:\n",
    "# Crear un programa un número dado por el usuario\n",
    "# Verifique si es múltiplo de: 2, 3, 5, 7, 9, 10 y 11.\n",
    "# Imprimir un mensaje por cada verificación.\n",
    "#\n",
    "def calcular(x,y):\n",
    "    if x % y == 0:\n",
    "        print(f\"{x} es multiplo de {y}\")\n",
    "    elif y % x == 0:\n",
    "        print(f\"{y} es multiplo de {x}\")\n",
    "    else:\n",
    "        print(\"Los números no son multiplos\")\n",
    "a = int(input(\"Ingrese un número: \"))\n",
    "b = 2\n",
    "c = 3\n",
    "d = 5\n",
    "e = 7\n",
    "f = 9\n",
    "g = 10\n",
    "h = 11\n",
    "print(\"Resultado multiplo de 2\")\n",
    "calcular(a,b)\n",
    "print()\n",
    "print(\"Resultado multiplo de 3\")\n",
    "calcular(a,c)\n",
    "print()\n",
    "print(\"Resultado multiplo de 5\")\n",
    "calcular(a,d)\n",
    "print()\n",
    "print(\"Resultado multiplo de 7\")\n",
    "calcular(a,e)\n",
    "print()\n",
    "print(\"Resultado multiplo de 9\")\n",
    "calcular(a,f)\n",
    "print()\n",
    "print(\"Resultado multiplo de 10\")\n",
    "calcular(a,g)\n",
    "print()\n",
    "print(\"Resultado multiplo de 11\")\n",
    "calcular(a,h)\n",
    "print()\n",
    "print(\"Programa finalizado\")\n",
    "print()\n",
    "input(\"Presione ENTER para cerrar\")"
   ]
  },
  {
   "cell_type": "markdown",
   "id": "cdb70b4e",
   "metadata": {},
   "source": [
    "¿Qué tipo de datos y operadores utilizaste?\n",
    "\n",
    "    Datos utilizados:\n",
    "\n",
    "    -Para convertir una tempertura de Celsius a Fahrenheint se debe multiplicar por 1.8 y al valor obtenido sumarle 32.\n",
    "    -Para convertir una tempertura de Celsius a Kelvin se suman 273.15 (que es la diferencia que existe con la escala absoluta) \n",
    "    -Para saber si un número es multiplo de otro, el resto de una división es igual a cero, siendo el cociente de la división un numero entero.\n",
    "    \n",
    "    Operadores utilizados: \n",
    "    - multiplicación \n",
    "    - suma\n",
    "    - división\n",
    "\n",
    "¿Qué validaciones implementaste o podrías haber hecho?\n",
    "    - Validar Entero\n",
    "    - Y multiplo de determinado número\n",
    "\n",
    "Webgrafía utilizada:\n",
    "    - https://www.codigopiton.com/convertir-celsius-fahrenheit-kelvin-en-python/\n",
    "    - https://www.youtube.com/watch?si=gsdcs1Hza1PGNRxe&v=Kp4Mvapo5kc&feature=youtu.be\n",
    "    "
   ]
  }
 ],
 "metadata": {
  "kernelspec": {
   "display_name": "Python 3",
   "language": "python",
   "name": "python3"
  },
  "language_info": {
   "name": "python",
   "version": "3.13.2"
  }
 },
 "nbformat": 4,
 "nbformat_minor": 5
}
